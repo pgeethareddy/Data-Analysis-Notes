{
 "cells": [
  {
   "cell_type": "markdown",
   "id": "2a7688e4",
   "metadata": {},
   "source": [
    "## Numpy Practice"
   ]
  },
  {
   "cell_type": "code",
   "execution_count": 3,
   "id": "3ef451b4",
   "metadata": {},
   "outputs": [
    {
     "name": "stdout",
     "output_type": "stream",
     "text": [
      "Requirement already satisfied: numpy in c:\\users\\user\\documents\\anaconda\\lib\\site-packages (1.23.5)\n"
     ]
    }
   ],
   "source": [
    "!pip install numpy"
   ]
  },
  {
   "cell_type": "code",
   "execution_count": 4,
   "id": "564114e7",
   "metadata": {},
   "outputs": [],
   "source": [
    "import numpy as np"
   ]
  },
  {
   "cell_type": "markdown",
   "id": "3fb3e00d",
   "metadata": {},
   "source": [
    "#### Difference between numpy array and list"
   ]
  },
  {
   "cell_type": "code",
   "execution_count": 5,
   "id": "c29bdd1f",
   "metadata": {},
   "outputs": [
    {
     "name": "stdout",
     "output_type": "stream",
     "text": [
      "<class 'list'>\n",
      "[1, 2, 3, 4]\n"
     ]
    }
   ],
   "source": [
    "#list\n",
    "lst=[1,2,3,4]\n",
    "print(type(lst))\n",
    "print(lst)"
   ]
  },
  {
   "cell_type": "code",
   "execution_count": 6,
   "id": "e917ac15",
   "metadata": {},
   "outputs": [
    {
     "name": "stdout",
     "output_type": "stream",
     "text": [
      "<class 'numpy.ndarray'>\n",
      "[1 2 3 4]\n"
     ]
    }
   ],
   "source": [
    "#numpy array\n",
    "a=np.array([1,2,3,4])\n",
    "print(type(a))\n",
    "print(a)"
   ]
  },
  {
   "cell_type": "code",
   "execution_count": 7,
   "id": "cc9f3262",
   "metadata": {},
   "outputs": [
    {
     "name": "stdout",
     "output_type": "stream",
     "text": [
      "int32\n",
      "float64\n",
      "float64\n"
     ]
    }
   ],
   "source": [
    "#numpy array is homogenous\n",
    "import numpy as np\n",
    "arr = np.array([1, 2, 3])  \n",
    "print(arr.dtype) \n",
    "arr_float = np.array([1.0, 2.5, 3.7])  \n",
    "print(arr_float.dtype) \n",
    "arr_mixed = np.array([1, 2.5, 3])  \n",
    "print(arr_mixed.dtype)  "
   ]
  },
  {
   "cell_type": "code",
   "execution_count": 9,
   "id": "5781989d",
   "metadata": {},
   "outputs": [
    {
     "name": "stdout",
     "output_type": "stream",
     "text": [
      "<U32\n",
      "['1' '2.5' 'hello']\n"
     ]
    }
   ],
   "source": [
    "import numpy as np\n",
    "arr_mixed = np.array([1, 2.5, \"hello\"])  # Elements are promoted to dtype='<U32' (unicode string)\n",
    "print(arr_mixed.dtype) \n",
    "print(arr_mixed)  "
   ]
  },
  {
   "cell_type": "code",
   "execution_count": 10,
   "id": "71ff29ca",
   "metadata": {
    "scrolled": true
   },
   "outputs": [
    {
     "name": "stdout",
     "output_type": "stream",
     "text": [
      "[ 0  1  2  3  4  5  6  7  8  9 10 11 12 13 14 15 16 17 18 19 20 21 22 23\n",
      " 24 25 26 27 28 29 30 31 32 33 34 35 36 37 38 39 40 41 42 43 44 45 46 47\n",
      " 48 49 50 51 52 53 54 55 56 57 58 59 60 61 62 63 64 65 66 67 68 69 70 71\n",
      " 72 73 74 75 76 77 78 79 80 81 82 83 84 85 86 87 88 89 90 91 92 93 94 95\n",
      " 96 97 98 99]\n",
      "CPU times: total: 0 ns\n",
      "Wall time: 2.02 ms\n"
     ]
    }
   ],
   "source": [
    "%%time\n",
    "b=np.arange(100)\n",
    "print(b)"
   ]
  },
  {
   "cell_type": "code",
   "execution_count": 13,
   "id": "66850e5e",
   "metadata": {},
   "outputs": [
    {
     "name": "stdout",
     "output_type": "stream",
     "text": [
      "CPU times: total: 297 ms\n",
      "Wall time: 356 ms\n"
     ]
    }
   ],
   "source": [
    "%%time\n",
    "\n",
    "lst = list(range(1000000));\n",
    "\n",
    "for i in range(1000000):\n",
    "    lst[i] *= lst[i];"
   ]
  },
  {
   "cell_type": "code",
   "execution_count": 14,
   "id": "5d71106e",
   "metadata": {},
   "outputs": [
    {
     "name": "stdout",
     "output_type": "stream",
     "text": [
      "CPU times: total: 0 ns\n",
      "Wall time: 5.19 ms\n"
     ]
    }
   ],
   "source": [
    "%%time\n",
    "\n",
    "arr = np.arange(1000000)\n",
    "\n",
    "arr = arr * arr"
   ]
  },
  {
   "cell_type": "markdown",
   "id": "cb525678",
   "metadata": {},
   "source": [
    "### Numpy attributes/properties"
   ]
  },
  {
   "cell_type": "code",
   "execution_count": 15,
   "id": "2403b5f7",
   "metadata": {},
   "outputs": [
    {
     "name": "stdout",
     "output_type": "stream",
     "text": [
      "int32\n"
     ]
    }
   ],
   "source": [
    "#dtype\n",
    "arr=np.array([[1,2,3],[4,5,6]])\n",
    "print(arr.dtype)"
   ]
  },
  {
   "cell_type": "code",
   "execution_count": 16,
   "id": "14ca434c",
   "metadata": {},
   "outputs": [
    {
     "name": "stdout",
     "output_type": "stream",
     "text": [
      "(2, 3)\n"
     ]
    }
   ],
   "source": [
    "#shape\n",
    "print(arr.shape)"
   ]
  },
  {
   "cell_type": "code",
   "execution_count": 17,
   "id": "9af26b4f",
   "metadata": {},
   "outputs": [
    {
     "name": "stdout",
     "output_type": "stream",
     "text": [
      "6\n"
     ]
    }
   ],
   "source": [
    "#size\n",
    "print(arr.size)"
   ]
  },
  {
   "cell_type": "code",
   "execution_count": 22,
   "id": "5c25486a",
   "metadata": {},
   "outputs": [
    {
     "name": "stdout",
     "output_type": "stream",
     "text": [
      "[[1.  2.5]\n",
      " [2.3 9.9]]\n",
      "8\n"
     ]
    }
   ],
   "source": [
    "a=np.array([[1.0,2.5],[2.3,9.9]])\n",
    "print(a)\n",
    "print(a.itemsize)"
   ]
  },
  {
   "cell_type": "code",
   "execution_count": 18,
   "id": "cd2150ba",
   "metadata": {},
   "outputs": [
    {
     "name": "stdout",
     "output_type": "stream",
     "text": [
      "4\n"
     ]
    }
   ],
   "source": [
    "#itemsize\n",
    "print(arr.itemsize)"
   ]
  },
  {
   "cell_type": "code",
   "execution_count": 19,
   "id": "3014e20c",
   "metadata": {},
   "outputs": [
    {
     "name": "stdout",
     "output_type": "stream",
     "text": [
      "2\n"
     ]
    }
   ],
   "source": [
    "#ndim\n",
    "print(arr.ndim)"
   ]
  },
  {
   "cell_type": "markdown",
   "id": "51a5432a",
   "metadata": {},
   "source": [
    "### Functions for creating numpy array"
   ]
  },
  {
   "cell_type": "code",
   "execution_count": 24,
   "id": "092cab2d",
   "metadata": {},
   "outputs": [
    {
     "name": "stdout",
     "output_type": "stream",
     "text": [
      "<class 'numpy.ndarray'>\n",
      "[1 2 3 4]\n"
     ]
    }
   ],
   "source": [
    "#array\n",
    "a=np.array((1,2,3,4))\n",
    "print(type(a))\n",
    "print(a)"
   ]
  },
  {
   "cell_type": "code",
   "execution_count": 27,
   "id": "08b6114d",
   "metadata": {},
   "outputs": [
    {
     "name": "stdout",
     "output_type": "stream",
     "text": [
      "<class 'numpy.ndarray'>\n",
      "[[0. 0. 0. 0.]\n",
      " [0. 0. 0. 0.]\n",
      " [0. 0. 0. 0.]]\n",
      "8\n",
      "float64\n"
     ]
    }
   ],
   "source": [
    "#zeros\n",
    "b=np.zeros((3,4))\n",
    "print(type(b))\n",
    "print(b)\n",
    "print(b.itemsize)\n",
    "print(b.dtype)"
   ]
  },
  {
   "cell_type": "code",
   "execution_count": 28,
   "id": "eee507ef",
   "metadata": {},
   "outputs": [
    {
     "name": "stdout",
     "output_type": "stream",
     "text": [
      "<class 'numpy.ndarray'>\n",
      "[[1. 1. 1.]\n",
      " [1. 1. 1.]]\n",
      "8\n",
      "float64\n"
     ]
    }
   ],
   "source": [
    "#ones\n",
    "c=np.ones((2,3))\n",
    "print(type(c))\n",
    "print(c)\n",
    "print(c.itemsize)\n",
    "print(c.dtype)"
   ]
  },
  {
   "cell_type": "code",
   "execution_count": 29,
   "id": "f370cda4",
   "metadata": {},
   "outputs": [
    {
     "name": "stdout",
     "output_type": "stream",
     "text": [
      "[[7 7 7 7]\n",
      " [7 7 7 7]\n",
      " [7 7 7 7]]\n",
      "int32\n",
      "4\n",
      "<class 'numpy.ndarray'>\n"
     ]
    }
   ],
   "source": [
    "#full\n",
    "d=np.full((3,4),7)\n",
    "print(d)\n",
    "print(d.dtype)\n",
    "print(d.itemsize)\n",
    "print(type(d))"
   ]
  },
  {
   "cell_type": "code",
   "execution_count": 34,
   "id": "0a3494f2",
   "metadata": {},
   "outputs": [
    {
     "name": "stdout",
     "output_type": "stream",
     "text": [
      "[[1. 1. 1.]\n",
      " [1. 1. 1.]]\n",
      "float64\n",
      "8\n"
     ]
    }
   ],
   "source": [
    "#empty\n",
    "import numpy as np \n",
    "d = np.empty((2, 3))  # Create a 2x3 uninitialized array\n",
    "print(arr5)\n",
    "print(d.dtype)\n",
    "print(d.itemsize)"
   ]
  },
  {
   "cell_type": "code",
   "execution_count": 36,
   "id": "564cad06",
   "metadata": {},
   "outputs": [
    {
     "name": "stdout",
     "output_type": "stream",
     "text": [
      "[[1. 0. 0.]\n",
      " [0. 1. 0.]\n",
      " [0. 0. 1.]]\n",
      "[[1. 0. 0.]\n",
      " [0. 1. 0.]\n",
      " [0. 0. 1.]]\n"
     ]
    }
   ],
   "source": [
    "#eye or identity\n",
    "import numpy as np\n",
    "arr8 = np.eye(3)  \n",
    "print(arr8)\n",
    "import numpy as np\n",
    "arr9 = np.identity(3)  # Create a 3x3 identity matrix\n",
    "print(arr9)"
   ]
  },
  {
   "cell_type": "code",
   "execution_count": 35,
   "id": "143fa866",
   "metadata": {},
   "outputs": [
    {
     "name": "stdout",
     "output_type": "stream",
     "text": [
      "[0 1 2 3 4 5 6 7 8 9] [1 2 3 4 5 6 7 8 9] [1 3 5 7 9]\n"
     ]
    }
   ],
   "source": [
    "#arange\n",
    "d=np.arange(10)\n",
    "e=np.arange(1,10)\n",
    "f=np.arange(1,10,2)\n",
    "print(d,e,f)"
   ]
  },
  {
   "cell_type": "markdown",
   "id": "af962752",
   "metadata": {},
   "source": [
    "## Datatypes in numpy"
   ]
  },
  {
   "cell_type": "markdown",
   "id": "c3de30a7",
   "metadata": {},
   "source": [
    "* Below is a list of all data types in NumPy and the characters used to represent them.\n",
    "\n",
    "* i - integer\n",
    "* b - boolean\n",
    "* str - string\n",
    "* f - float\n",
    "* m - timedelta\n",
    "* M - datetime\n",
    "* O - object\n",
    "* u - unsigned integer\n",
    "* c - complex float\n",
    "* U - unicode string\n",
    "* V - fixed chunk of memory for other type ( void )"
   ]
  },
  {
   "cell_type": "code",
   "execution_count": 37,
   "id": "f663e04a",
   "metadata": {},
   "outputs": [
    {
     "name": "stdout",
     "output_type": "stream",
     "text": [
      "Array: \n",
      " [2. 1. 4. 5.]\n",
      "Data Type:  float32\n"
     ]
    }
   ],
   "source": [
    "import numpy as np\n",
    "arr = np.array([2, 1, 4, 5], dtype='f')\n",
    "print(\"Array: \\n\", arr)\n",
    "# Print datatype\n",
    "print(\"Data Type: \", arr.dtype)"
   ]
  },
  {
   "cell_type": "code",
   "execution_count": 38,
   "id": "dbcf3f69",
   "metadata": {},
   "outputs": [
    {
     "name": "stdout",
     "output_type": "stream",
     "text": [
      "Array: \n",
      " [2 1 4 5]\n",
      "Data Type:  object\n"
     ]
    }
   ],
   "source": [
    "import numpy as np\n",
    "arr = np.array([2, 1, 4, 5], dtype='O')\n",
    "print(\"Array: \\n\", arr)\n",
    "# Print datatype\n",
    "print(\"Data Type: \", arr.dtype)"
   ]
  },
  {
   "cell_type": "code",
   "execution_count": 39,
   "id": "843378dc",
   "metadata": {},
   "outputs": [
    {
     "name": "stdout",
     "output_type": "stream",
     "text": [
      "Array: \n",
      " ['2' '1' '4' '5']\n",
      "Data Type:  <U1\n"
     ]
    }
   ],
   "source": [
    "import numpy as np\n",
    "arr = np.array([2, 1, 4, 5], dtype='str')\n",
    "print(\"Array: \\n\", arr)\n",
    "# Print datatype\n",
    "print(\"Data Type: \", arr.dtype)"
   ]
  },
  {
   "cell_type": "code",
   "execution_count": 40,
   "id": "5c9af050",
   "metadata": {},
   "outputs": [
    {
     "name": "stdout",
     "output_type": "stream",
     "text": [
      "Array: \n",
      " [2 1 4 5]\n",
      "Data Type:  int32\n"
     ]
    }
   ],
   "source": [
    "import numpy as np\n",
    "arr = np.array([2, 1, 4, 5], dtype='i')\n",
    "print(\"Array: \\n\", arr)\n",
    "# Print datatype\n",
    "print(\"Data Type: \", arr.dtype)"
   ]
  },
  {
   "cell_type": "markdown",
   "id": "8a3da0f7",
   "metadata": {},
   "source": [
    "### Numpy Random numbers"
   ]
  },
  {
   "cell_type": "code",
   "execution_count": 46,
   "id": "3fab8be2",
   "metadata": {},
   "outputs": [
    {
     "name": "stdout",
     "output_type": "stream",
     "text": [
      "[0.33973069 0.77172731 0.10006906 0.34826445 0.75275043 0.43844515\n",
      " 0.92839579 0.97258019 0.36714918 0.0441451 ]\n",
      "float64\n",
      "<class 'numpy.ndarray'>\n"
     ]
    }
   ],
   "source": [
    "#random.rand\n",
    "a=np.random.rand(10)\n",
    "print(a)\n",
    "print(a.dtype)\n",
    "print(type(a))"
   ]
  },
  {
   "cell_type": "code",
   "execution_count": 47,
   "id": "25cb27fa",
   "metadata": {},
   "outputs": [
    {
     "name": "stdout",
     "output_type": "stream",
     "text": [
      "[-2.26825668  0.27140628  0.64511346  0.94976523 -0.91181128 -0.54838571\n",
      " -0.00586076 -0.27839798 -0.10541464  0.30420992]\n",
      "float64\n",
      "<class 'numpy.ndarray'>\n"
     ]
    }
   ],
   "source": [
    "#random.randn\n",
    "b=np.random.randn(10)\n",
    "print(b)\n",
    "print(b.dtype)\n",
    "print(type(b))"
   ]
  },
  {
   "cell_type": "code",
   "execution_count": 49,
   "id": "1c7e7f0a",
   "metadata": {},
   "outputs": [
    {
     "name": "stdout",
     "output_type": "stream",
     "text": [
      "3.590212019205225\n",
      "<class 'float'>\n"
     ]
    }
   ],
   "source": [
    "#random.uniform\n",
    "c=np.random.uniform(10)\n",
    "print(c)\n",
    "print(type(c))"
   ]
  },
  {
   "cell_type": "code",
   "execution_count": 50,
   "id": "e13c7beb",
   "metadata": {},
   "outputs": [
    {
     "name": "stdout",
     "output_type": "stream",
     "text": [
      "[[17.76271244 13.59260538 16.80652237 17.35350725]\n",
      " [16.16011154 10.99385748 16.51305959 18.84339834]\n",
      " [12.1465485  18.18305388 17.35934893 12.2065112 ]]\n",
      "<class 'numpy.ndarray'>\n"
     ]
    }
   ],
   "source": [
    "c=np.random.uniform(10,20,size=(3,4))\n",
    "print(c)\n",
    "print(type(c))"
   ]
  },
  {
   "cell_type": "code",
   "execution_count": 51,
   "id": "2553cb22",
   "metadata": {},
   "outputs": [
    {
     "name": "stdout",
     "output_type": "stream",
     "text": [
      "1\n",
      "<class 'int'>\n"
     ]
    }
   ],
   "source": [
    "#random.randint\n",
    "c=np.random.randint(10)\n",
    "print(c)\n",
    "print(type(c))"
   ]
  },
  {
   "cell_type": "code",
   "execution_count": 52,
   "id": "ce2a7bda",
   "metadata": {},
   "outputs": [
    {
     "name": "stdout",
     "output_type": "stream",
     "text": [
      "[[15 19 19 19 14 15]\n",
      " [10 18 11 11 15 11]\n",
      " [12 15 18 14 14 11]\n",
      " [17 17 13 18 19 12]\n",
      " [19 14 10 11 12 10]]\n",
      "<class 'numpy.ndarray'>\n"
     ]
    }
   ],
   "source": [
    "c=np.random.randint(10,20,size=(5,6))\n",
    "print(c)\n",
    "print(type(c))"
   ]
  },
  {
   "cell_type": "markdown",
   "id": "1630aee7",
   "metadata": {},
   "source": [
    "### Indexing,slicing,updating"
   ]
  },
  {
   "cell_type": "code",
   "execution_count": 4,
   "id": "3d1de95b",
   "metadata": {},
   "outputs": [
    {
     "name": "stdout",
     "output_type": "stream",
     "text": [
      "6\n",
      "6\n"
     ]
    }
   ],
   "source": [
    "#for multi-dimensional array\n",
    "import numpy as np\n",
    "arr = np.array([[1, 2, 3], [4, 5, 6]])\n",
    "print(arr[1, 2])  \n",
    "print(arr[1][2])"
   ]
  },
  {
   "cell_type": "code",
   "execution_count": 7,
   "id": "d0a0e568",
   "metadata": {},
   "outputs": [
    {
     "name": "stdout",
     "output_type": "stream",
     "text": [
      "2\n"
     ]
    },
    {
     "ename": "IndexError",
     "evalue": "index 3 is out of bounds for axis 0 with size 3",
     "output_type": "error",
     "traceback": [
      "\u001b[1;31m---------------------------------------------------------------------------\u001b[0m",
      "\u001b[1;31mIndexError\u001b[0m                                Traceback (most recent call last)",
      "Cell \u001b[1;32mIn[7], line 4\u001b[0m\n\u001b[0;32m      2\u001b[0m a\u001b[38;5;241m=\u001b[39mnp\u001b[38;5;241m.\u001b[39marray((\u001b[38;5;241m1\u001b[39m,\u001b[38;5;241m2\u001b[39m,\u001b[38;5;241m3\u001b[39m))\n\u001b[0;32m      3\u001b[0m \u001b[38;5;28mprint\u001b[39m(a[\u001b[38;5;241m1\u001b[39m])\n\u001b[1;32m----> 4\u001b[0m \u001b[38;5;28mprint\u001b[39m(\u001b[43ma\u001b[49m\u001b[43m[\u001b[49m\u001b[38;5;241;43m3\u001b[39;49m\u001b[43m]\u001b[49m)\n",
      "\u001b[1;31mIndexError\u001b[0m: index 3 is out of bounds for axis 0 with size 3"
     ]
    }
   ],
   "source": [
    "#for single dimensional\n",
    "a=np.array((1,2,3))\n",
    "print(a[1])\n",
    "print(a[3])"
   ]
  },
  {
   "cell_type": "code",
   "execution_count": 6,
   "id": "77a5e625",
   "metadata": {},
   "outputs": [
    {
     "name": "stdout",
     "output_type": "stream",
     "text": [
      "3\n"
     ]
    }
   ],
   "source": [
    "#negative indexing\n",
    "print(a[-1])"
   ]
  },
  {
   "cell_type": "code",
   "execution_count": 61,
   "id": "d191031c",
   "metadata": {},
   "outputs": [
    {
     "name": "stdout",
     "output_type": "stream",
     "text": [
      "[[2 3]\n",
      " [5 6]]\n",
      "[1 3 5]\n"
     ]
    }
   ],
   "source": [
    "#slicing\n",
    "import numpy as np\n",
    "arr = np.array([[1, 2, 3], [4, 5, 6], [7, 8, 9]])\n",
    "print(arr[:2, 1:])  \n",
    "arr = np.array([1, 2, 3, 4, 5])\n",
    "print(arr[::2])  # Slice every second element"
   ]
  },
  {
   "cell_type": "code",
   "execution_count": 62,
   "id": "91b7be7d",
   "metadata": {},
   "outputs": [
    {
     "name": "stdout",
     "output_type": "stream",
     "text": [
      "Numpy Array: \n",
      " [ 0 67 34 28  4 23 66 69 58 80]\n",
      "Shape:  (10,)\n"
     ]
    }
   ],
   "source": [
    "# Randomly generating 1 dimensional array\n",
    "import numpy as np\n",
    "arr = np.random.randint(100, size = (10, ))\n",
    "print(\"Numpy Array: \\n\", arr)\n",
    "print(\"Shape: \", arr.shape)"
   ]
  },
  {
   "cell_type": "code",
   "execution_count": 63,
   "id": "5503d1eb",
   "metadata": {},
   "outputs": [
    {
     "name": "stdout",
     "output_type": "stream",
     "text": [
      "[ 0 23 58 80]\n"
     ]
    }
   ],
   "source": [
    "idx = [True, False, False, False, False, True, False, False, True, True]\n",
    "print(arr[idx])"
   ]
  },
  {
   "cell_type": "code",
   "execution_count": 64,
   "id": "b2fa6c16",
   "metadata": {},
   "outputs": [
    {
     "name": "stdout",
     "output_type": "stream",
     "text": [
      "[10  2  3  4  5]\n"
     ]
    }
   ],
   "source": [
    "#updating\n",
    "import numpy as np\n",
    "arr = np.array([1, 2, 3, 4, 5])\n",
    "arr[0] = 10  # Update the first element to 10\n",
    "print(arr)"
   ]
  },
  {
   "cell_type": "code",
   "execution_count": 65,
   "id": "e3c7d064",
   "metadata": {},
   "outputs": [
    {
     "name": "stdout",
     "output_type": "stream",
     "text": [
      "[ 1 20 30 40  5]\n"
     ]
    }
   ],
   "source": [
    "import numpy as np\n",
    "arr = np.array([1, 2, 3, 4, 5])\n",
    "arr[1:4] = [20, 30, 40]  # Update elements from index 1 to 3\n",
    "print(arr)"
   ]
  },
  {
   "cell_type": "code",
   "execution_count": 66,
   "id": "534bf546",
   "metadata": {},
   "outputs": [
    {
     "name": "stdout",
     "output_type": "stream",
     "text": [
      "[[ 1 10  3]\n",
      " [ 4  5  6]]\n"
     ]
    }
   ],
   "source": [
    "import numpy as np\n",
    "arr = np.array([[1, 2, 3], [4, 5, 6]])\n",
    "arr[0, 1] = 10  # Update element at row 0, column 1 to 10\n",
    "print(arr)"
   ]
  },
  {
   "cell_type": "code",
   "execution_count": 28,
   "id": "f09e3317",
   "metadata": {},
   "outputs": [
    {
     "name": "stdout",
     "output_type": "stream",
     "text": [
      "[[ 9 15 17 11]\n",
      " [ 1  7 14  1]\n",
      " [ 3 11 14  2]]\n"
     ]
    }
   ],
   "source": [
    "#flatten,ravel\n",
    "a=np.random.randint(1,20,size=(3,4))\n",
    "print(a)"
   ]
  },
  {
   "cell_type": "code",
   "execution_count": 29,
   "id": "8def212e",
   "metadata": {},
   "outputs": [
    {
     "name": "stdout",
     "output_type": "stream",
     "text": [
      "[ 9 15 17 11  1  7 14  1  3 11 14  2]\n",
      "(12,)\n"
     ]
    }
   ],
   "source": [
    "b=a.flatten()\n",
    "print(b)\n",
    "print(b.shape)"
   ]
  },
  {
   "cell_type": "code",
   "execution_count": 30,
   "id": "8130ee70",
   "metadata": {},
   "outputs": [
    {
     "name": "stdout",
     "output_type": "stream",
     "text": [
      "[ 9 15 17 11  1  7 14  1  3 11 14  2]\n",
      "(12,)\n"
     ]
    }
   ],
   "source": [
    "#ravel\n",
    "c=a.ravel()\n",
    "print(c)\n",
    "print(c.shape)"
   ]
  },
  {
   "cell_type": "code",
   "execution_count": 31,
   "id": "1814ef5c",
   "metadata": {},
   "outputs": [
    {
     "name": "stdout",
     "output_type": "stream",
     "text": [
      "original: [[ 9 15 17 11]\n",
      " [ 1  7 14  1]\n",
      " [ 3 11 14  2]]\n"
     ]
    }
   ],
   "source": [
    "print(\"original:\",a)\n"
   ]
  },
  {
   "cell_type": "code",
   "execution_count": 32,
   "id": "793fb8ae",
   "metadata": {},
   "outputs": [
    {
     "name": "stdout",
     "output_type": "stream",
     "text": [
      "updated: [[ 9 15 17 11]\n",
      " [ 1 20 14  1]\n",
      " [ 3 11 14  2]]\n"
     ]
    }
   ],
   "source": [
    "a[1,1]=20\n",
    "print(\"updated:\",a)"
   ]
  },
  {
   "cell_type": "code",
   "execution_count": 33,
   "id": "00efd270",
   "metadata": {},
   "outputs": [
    {
     "name": "stdout",
     "output_type": "stream",
     "text": [
      "[ 9 15 17 11  1  7 14  1  3 11 14  2]\n",
      "[ 9 15 17 11  1 20 14  1  3 11 14  2]\n"
     ]
    }
   ],
   "source": [
    "print(b)\n",
    "print(c)"
   ]
  },
  {
   "cell_type": "code",
   "execution_count": 34,
   "id": "70546113",
   "metadata": {},
   "outputs": [
    {
     "name": "stdout",
     "output_type": "stream",
     "text": [
      "[[7 2 7 5]\n",
      " [9 9 2 1]\n",
      " [4 2 2 7]\n",
      " [1 7 2 5]\n",
      " [1 5 6 6]]\n"
     ]
    }
   ],
   "source": [
    "#reshape\n",
    "arr=np.random.randint(1,10,size=(5,4))\n",
    "print(arr)\n"
   ]
  },
  {
   "cell_type": "code",
   "execution_count": 36,
   "id": "13514a09",
   "metadata": {},
   "outputs": [
    {
     "data": {
      "text/plain": [
       "array([[7, 2, 7, 5, 9],\n",
       "       [9, 2, 1, 4, 2],\n",
       "       [2, 7, 1, 7, 2],\n",
       "       [5, 1, 5, 6, 6]])"
      ]
     },
     "execution_count": 36,
     "metadata": {},
     "output_type": "execute_result"
    }
   ],
   "source": [
    "arr1=np.reshape(arr,(4,5))\n",
    "arr1"
   ]
  },
  {
   "cell_type": "code",
   "execution_count": 38,
   "id": "60bcedb0",
   "metadata": {},
   "outputs": [
    {
     "data": {
      "text/plain": [
       "array([[7, 2],\n",
       "       [7, 5],\n",
       "       [9, 9],\n",
       "       [2, 1],\n",
       "       [4, 2],\n",
       "       [2, 7],\n",
       "       [1, 7],\n",
       "       [2, 5],\n",
       "       [1, 5],\n",
       "       [6, 6]])"
      ]
     },
     "execution_count": 38,
     "metadata": {},
     "output_type": "execute_result"
    }
   ],
   "source": [
    "arr2=np.reshape(arr,(10,2))\n",
    "arr2"
   ]
  },
  {
   "cell_type": "code",
   "execution_count": 39,
   "id": "29335400",
   "metadata": {},
   "outputs": [
    {
     "ename": "ValueError",
     "evalue": "cannot reshape array of size 20 into shape (3,3)",
     "output_type": "error",
     "traceback": [
      "\u001b[1;31m---------------------------------------------------------------------------\u001b[0m",
      "\u001b[1;31mValueError\u001b[0m                                Traceback (most recent call last)",
      "Cell \u001b[1;32mIn[39], line 1\u001b[0m\n\u001b[1;32m----> 1\u001b[0m arr3\u001b[38;5;241m=\u001b[39m\u001b[43mnp\u001b[49m\u001b[38;5;241;43m.\u001b[39;49m\u001b[43mreshape\u001b[49m\u001b[43m(\u001b[49m\u001b[43marr\u001b[49m\u001b[43m,\u001b[49m\u001b[43m(\u001b[49m\u001b[38;5;241;43m3\u001b[39;49m\u001b[43m,\u001b[49m\u001b[38;5;241;43m3\u001b[39;49m\u001b[43m)\u001b[49m\u001b[43m)\u001b[49m\n",
      "File \u001b[1;32m<__array_function__ internals>:180\u001b[0m, in \u001b[0;36mreshape\u001b[1;34m(*args, **kwargs)\u001b[0m\n",
      "File \u001b[1;32m~\\Documents\\anaconda\\lib\\site-packages\\numpy\\core\\fromnumeric.py:298\u001b[0m, in \u001b[0;36mreshape\u001b[1;34m(a, newshape, order)\u001b[0m\n\u001b[0;32m    198\u001b[0m \u001b[38;5;129m@array_function_dispatch\u001b[39m(_reshape_dispatcher)\n\u001b[0;32m    199\u001b[0m \u001b[38;5;28;01mdef\u001b[39;00m \u001b[38;5;21mreshape\u001b[39m(a, newshape, order\u001b[38;5;241m=\u001b[39m\u001b[38;5;124m'\u001b[39m\u001b[38;5;124mC\u001b[39m\u001b[38;5;124m'\u001b[39m):\n\u001b[0;32m    200\u001b[0m \u001b[38;5;250m    \u001b[39m\u001b[38;5;124;03m\"\"\"\u001b[39;00m\n\u001b[0;32m    201\u001b[0m \u001b[38;5;124;03m    Gives a new shape to an array without changing its data.\u001b[39;00m\n\u001b[0;32m    202\u001b[0m \n\u001b[1;32m   (...)\u001b[0m\n\u001b[0;32m    296\u001b[0m \u001b[38;5;124;03m           [5, 6]])\u001b[39;00m\n\u001b[0;32m    297\u001b[0m \u001b[38;5;124;03m    \"\"\"\u001b[39;00m\n\u001b[1;32m--> 298\u001b[0m     \u001b[38;5;28;01mreturn\u001b[39;00m \u001b[43m_wrapfunc\u001b[49m\u001b[43m(\u001b[49m\u001b[43ma\u001b[49m\u001b[43m,\u001b[49m\u001b[43m \u001b[49m\u001b[38;5;124;43m'\u001b[39;49m\u001b[38;5;124;43mreshape\u001b[39;49m\u001b[38;5;124;43m'\u001b[39;49m\u001b[43m,\u001b[49m\u001b[43m \u001b[49m\u001b[43mnewshape\u001b[49m\u001b[43m,\u001b[49m\u001b[43m \u001b[49m\u001b[43morder\u001b[49m\u001b[38;5;241;43m=\u001b[39;49m\u001b[43morder\u001b[49m\u001b[43m)\u001b[49m\n",
      "File \u001b[1;32m~\\Documents\\anaconda\\lib\\site-packages\\numpy\\core\\fromnumeric.py:57\u001b[0m, in \u001b[0;36m_wrapfunc\u001b[1;34m(obj, method, *args, **kwds)\u001b[0m\n\u001b[0;32m     54\u001b[0m     \u001b[38;5;28;01mreturn\u001b[39;00m _wrapit(obj, method, \u001b[38;5;241m*\u001b[39margs, \u001b[38;5;241m*\u001b[39m\u001b[38;5;241m*\u001b[39mkwds)\n\u001b[0;32m     56\u001b[0m \u001b[38;5;28;01mtry\u001b[39;00m:\n\u001b[1;32m---> 57\u001b[0m     \u001b[38;5;28;01mreturn\u001b[39;00m bound(\u001b[38;5;241m*\u001b[39margs, \u001b[38;5;241m*\u001b[39m\u001b[38;5;241m*\u001b[39mkwds)\n\u001b[0;32m     58\u001b[0m \u001b[38;5;28;01mexcept\u001b[39;00m \u001b[38;5;167;01mTypeError\u001b[39;00m:\n\u001b[0;32m     59\u001b[0m     \u001b[38;5;66;03m# A TypeError occurs if the object does have such a method in its\u001b[39;00m\n\u001b[0;32m     60\u001b[0m     \u001b[38;5;66;03m# class, but its signature is not identical to that of NumPy's. This\u001b[39;00m\n\u001b[1;32m   (...)\u001b[0m\n\u001b[0;32m     64\u001b[0m     \u001b[38;5;66;03m# Call _wrapit from within the except clause to ensure a potential\u001b[39;00m\n\u001b[0;32m     65\u001b[0m     \u001b[38;5;66;03m# exception has a traceback chain.\u001b[39;00m\n\u001b[0;32m     66\u001b[0m     \u001b[38;5;28;01mreturn\u001b[39;00m _wrapit(obj, method, \u001b[38;5;241m*\u001b[39margs, \u001b[38;5;241m*\u001b[39m\u001b[38;5;241m*\u001b[39mkwds)\n",
      "\u001b[1;31mValueError\u001b[0m: cannot reshape array of size 20 into shape (3,3)"
     ]
    }
   ],
   "source": [
    "arr3=np.reshape(arr,(3,3))"
   ]
  },
  {
   "cell_type": "markdown",
   "id": "fc695e8c",
   "metadata": {},
   "source": [
    "### iteration"
   ]
  },
  {
   "cell_type": "code",
   "execution_count": 41,
   "id": "912d0a6b",
   "metadata": {},
   "outputs": [
    {
     "name": "stdout",
     "output_type": "stream",
     "text": [
      "1 2 3 4 "
     ]
    }
   ],
   "source": [
    "#1D\n",
    "a=np.array([1,2,3,4])\n",
    "for i in a:\n",
    "    print(i,end=\" \")"
   ]
  },
  {
   "cell_type": "code",
   "execution_count": 42,
   "id": "9896d45a",
   "metadata": {},
   "outputs": [
    {
     "name": "stdout",
     "output_type": "stream",
     "text": [
      "[[7 1 5 5]\n",
      " [6 7 1 1]\n",
      " [2 5 7 8]]\n"
     ]
    }
   ],
   "source": [
    "#2D\n",
    "b=np.random.randint(1,9,size=(3,4))\n",
    "print(b)"
   ]
  },
  {
   "cell_type": "code",
   "execution_count": 47,
   "id": "f944279d",
   "metadata": {},
   "outputs": [
    {
     "name": "stdout",
     "output_type": "stream",
     "text": [
      "7 1 5 5 6 7 1 1 2 5 7 8 7 1 5 5 6 7 1 1 2 5 7 8 7 1 5 5 6 7 1 1 2 5 7 8 "
     ]
    }
   ],
   "source": [
    "for row in b:\n",
    "    for item in b.ravel():\n",
    "        print(item,end=\" \")"
   ]
  },
  {
   "cell_type": "code",
   "execution_count": 45,
   "id": "1e6f246f",
   "metadata": {},
   "outputs": [
    {
     "name": "stdout",
     "output_type": "stream",
     "text": [
      "1 2 3 4 "
     ]
    }
   ],
   "source": [
    "#nditer\n",
    "for i in np.nditer(a):\n",
    "    print(i,end=\" \")"
   ]
  },
  {
   "cell_type": "code",
   "execution_count": 46,
   "id": "644d7b0a",
   "metadata": {},
   "outputs": [
    {
     "name": "stdout",
     "output_type": "stream",
     "text": [
      "7 1 5 5 6 7 1 1 2 5 7 8 "
     ]
    }
   ],
   "source": [
    "for i in np.nditer(b):\n",
    "    print(i,end=\" \")"
   ]
  },
  {
   "cell_type": "code",
   "execution_count": 48,
   "id": "0b17003c",
   "metadata": {},
   "outputs": [
    {
     "name": "stdout",
     "output_type": "stream",
     "text": [
      "Numpy Array: \n",
      " [23 37 29 15 19 21 39 15 20 11]\n",
      "Shape:  (10,)\n"
     ]
    }
   ],
   "source": [
    "arr1d = np.random.randint(10, 40, size = (10, ))\n",
    "\n",
    "print(\"Numpy Array: \\n\", arr1d)\n",
    "\n",
    "print(\"Shape: \", arr1d.shape)"
   ]
  },
  {
   "cell_type": "code",
   "execution_count": 49,
   "id": "eec78d15",
   "metadata": {},
   "outputs": [
    {
     "name": "stdout",
     "output_type": "stream",
     "text": [
      "Original Array:  [23 37 29 15 19 21 39 15 20 11]\n"
     ]
    },
    {
     "ename": "ValueError",
     "evalue": "assignment destination is read-only",
     "output_type": "error",
     "traceback": [
      "\u001b[1;31m---------------------------------------------------------------------------\u001b[0m",
      "\u001b[1;31mValueError\u001b[0m                                Traceback (most recent call last)",
      "Cell \u001b[1;32mIn[49], line 5\u001b[0m\n\u001b[0;32m      3\u001b[0m \u001b[38;5;28;01mfor\u001b[39;00m item \u001b[38;5;129;01min\u001b[39;00m np\u001b[38;5;241m.\u001b[39mnditer(arr1d):\n\u001b[0;32m      4\u001b[0m     \u001b[38;5;28;01mif\u001b[39;00m item \u001b[38;5;241m>\u001b[39m \u001b[38;5;241m20\u001b[39m:\n\u001b[1;32m----> 5\u001b[0m         item[\u001b[38;5;241m.\u001b[39m\u001b[38;5;241m.\u001b[39m\u001b[38;5;241m.\u001b[39m] \u001b[38;5;241m=\u001b[39m (item \u001b[38;5;241m*\u001b[39m \u001b[38;5;241m0\u001b[39m)\n\u001b[0;32m      7\u001b[0m \u001b[38;5;28mprint\u001b[39m(\u001b[38;5;124m\"\u001b[39m\u001b[38;5;124mUpdated Array\u001b[39m\u001b[38;5;124m\"\u001b[39m, arr1d)\n",
      "\u001b[1;31mValueError\u001b[0m: assignment destination is read-only"
     ]
    }
   ],
   "source": [
    "print(\"Original Array: \", arr1d)\n",
    "\n",
    "for item in np.nditer(arr1d):\n",
    "    if item > 20:\n",
    "        item[...] = (item * 0)\n",
    "        \n",
    "print(\"Updated Array\", arr1d)"
   ]
  },
  {
   "cell_type": "code",
   "execution_count": 50,
   "id": "c3f66401",
   "metadata": {},
   "outputs": [
    {
     "name": "stdout",
     "output_type": "stream",
     "text": [
      "Original Array:  [23 37 29 15 19 21 39 15 20 11]\n",
      "Updated Array [ 0  0  0 15 19  0  0 15 20 11]\n"
     ]
    }
   ],
   "source": [
    "print(\"Original Array: \", arr1d)\n",
    "\n",
    "for item in np.nditer(arr1d, op_flags=['readwrite']):\n",
    "    if item > 20:\n",
    "        item[...] = (item * 0)\n",
    "        \n",
    "print(\"Updated Array\", arr1d)"
   ]
  },
  {
   "cell_type": "code",
   "execution_count": 51,
   "id": "af4d4762",
   "metadata": {},
   "outputs": [
    {
     "name": "stdout",
     "output_type": "stream",
     "text": [
      "[[16  5  8  5]\n",
      " [19 14  4 14]\n",
      " [12 16  4  2]\n",
      " [ 2  1 17 17]\n",
      " [ 3 12 17  4]]\n"
     ]
    }
   ],
   "source": [
    "# Write a program to generate an array with shape 5*4 at random containing positive integer. Perform an update by replacing all\n",
    "#odd numbers with -1. (Using a Loop)\n",
    "a=np.random.randint(1,20,size=(5,4))\n",
    "print(a)"
   ]
  },
  {
   "cell_type": "code",
   "execution_count": 56,
   "id": "57cd21e7",
   "metadata": {},
   "outputs": [
    {
     "name": "stdout",
     "output_type": "stream",
     "text": [
      "Original array:\n",
      "[[16 93 11 32]\n",
      " [76 93 67 78]\n",
      " [30 50 42 40]\n",
      " [40 32 38 48]\n",
      " [ 3 16 34  3]]\n",
      "\n",
      "Updated array:\n",
      "[[16 -1 -1 32]\n",
      " [76 -1 -1 78]\n",
      " [30 50 42 40]\n",
      " [40 32 38 48]\n",
      " [-1 16 34 -1]]\n"
     ]
    }
   ],
   "source": [
    "import numpy as np\n",
    "\n",
    "# Generate a 5x4 array of random positive integers between 1 and 100\n",
    "array = np.random.randint(1, 101, size=(5, 4))\n",
    "\n",
    "print(\"Original array:\")\n",
    "print(array)\n",
    "\n",
    "# Update the array by replacing all odd numbers with -1 using a loop\n",
    "for i in range(array.shape[0]):\n",
    "    for j in range(array.shape[1]):\n",
    "        if array[i, j] % 2 != 0:\n",
    "            array[i, j] = -1\n",
    "\n",
    "print(\"\\nUpdated array:\")\n",
    "print(array)\n"
   ]
  },
  {
   "cell_type": "code",
   "execution_count": 57,
   "id": "3c1cee32",
   "metadata": {},
   "outputs": [
    {
     "name": "stdout",
     "output_type": "stream",
     "text": [
      "[0, 6, -10, 2, 1, 3]\n"
     ]
    }
   ],
   "source": [
    "#Given an array [1, -10, 2, 3, 0, 6], print the array in this order [0, 6, -10, 2, 1, 3]\n",
    "array = [1, -10, 2, 3, 0, 6]\n",
    "\n",
    "# Desired order of indices\n",
    "order = [4, 5, 1, 2, 0, 3]\n",
    "\n",
    "# Reorder the array based on the specified order\n",
    "reordered_array = [array[i] for i in order]\n",
    "\n",
    "# Print the reordered array\n",
    "print(reordered_array)"
   ]
  },
  {
   "cell_type": "code",
   "execution_count": 1,
   "id": "1f823870",
   "metadata": {},
   "outputs": [
    {
     "name": "stdout",
     "output_type": "stream",
     "text": [
      "Ellipsis\n"
     ]
    }
   ],
   "source": [
    "print(...)"
   ]
  },
  {
   "cell_type": "markdown",
   "id": "1b40ac2b",
   "metadata": {},
   "source": [
    "### Python operations on numpy array"
   ]
  },
  {
   "cell_type": "code",
   "execution_count": 2,
   "id": "c13d8943",
   "metadata": {},
   "outputs": [
    {
     "name": "stdout",
     "output_type": "stream",
     "text": [
      "[[ 6  7  8]\n",
      " [ 9 10 11]]\n"
     ]
    }
   ],
   "source": [
    "import numpy as np\n",
    "x=np.array([[1,2,3],[4,5,6]])\n",
    "print(x+5)"
   ]
  },
  {
   "cell_type": "code",
   "execution_count": 3,
   "id": "166c2202",
   "metadata": {},
   "outputs": [
    {
     "name": "stdout",
     "output_type": "stream",
     "text": [
      "[[0 1 2]\n",
      " [3 4 5]]\n"
     ]
    }
   ],
   "source": [
    "print(x-1)"
   ]
  },
  {
   "cell_type": "code",
   "execution_count": 4,
   "id": "1a0c082c",
   "metadata": {},
   "outputs": [
    {
     "name": "stdout",
     "output_type": "stream",
     "text": [
      "[[1 0 1]\n",
      " [0 1 0]]\n"
     ]
    }
   ],
   "source": [
    "print(x%2)"
   ]
  },
  {
   "cell_type": "code",
   "execution_count": 6,
   "id": "a3a23a8c",
   "metadata": {},
   "outputs": [
    {
     "name": "stdout",
     "output_type": "stream",
     "text": [
      "[[ 2  4  6]\n",
      " [ 8 10 12]]\n"
     ]
    }
   ],
   "source": [
    "print(x*2)"
   ]
  },
  {
   "cell_type": "code",
   "execution_count": 7,
   "id": "8f2b07f5",
   "metadata": {},
   "outputs": [
    {
     "name": "stdout",
     "output_type": "stream",
     "text": [
      "[[ True  True  True]\n",
      " [False False False]]\n"
     ]
    }
   ],
   "source": [
    "print(x<=3)"
   ]
  },
  {
   "cell_type": "markdown",
   "id": "4efebffa",
   "metadata": {},
   "source": [
    "### Numpy maths"
   ]
  },
  {
   "cell_type": "code",
   "execution_count": 2,
   "id": "1326a14b",
   "metadata": {},
   "outputs": [
    {
     "name": "stdout",
     "output_type": "stream",
     "text": [
      "Square Root:  2.0\n",
      "Exponent:  2.718281828459045\n",
      "Trigonometric Sin:  0.0\n",
      "Trigonometric Cos:  1.0\n",
      "... and many more\n"
     ]
    }
   ],
   "source": [
    "import numpy as np\n",
    "print(\"Square Root: \", np.sqrt(4))\n",
    "\n",
    "print(\"Exponent: \", np.exp(1))\n",
    "\n",
    "print(\"Trigonometric Sin: \", np.sin(0))\n",
    "\n",
    "print(\"Trigonometric Cos: \", np.cos(0))\n",
    "\n",
    "print(\"... and many more\")"
   ]
  },
  {
   "cell_type": "code",
   "execution_count": 3,
   "id": "2f959367",
   "metadata": {},
   "outputs": [
    {
     "name": "stdout",
     "output_type": "stream",
     "text": [
      "Elementwise Addition: \n",
      " [[ 6  8]\n",
      " [10 12]]\n",
      "Elementwise Subtraction: \n",
      " [[-4 -4]\n",
      " [-4 -4]]\n",
      "Elementwise Multiplication: \n",
      " [[ 5 12]\n",
      " [21 32]]\n",
      "Elementwise Division: \n",
      " [[0.2        0.33333333]\n",
      " [0.42857143 0.5       ]]\n"
     ]
    }
   ],
   "source": [
    "# ELEMENT WISE OPERATIONS\n",
    "\n",
    "x = np.array([[1,2], [3,4]])\n",
    "\n",
    "y = np.array([[5,6], [7,8]])\n",
    "\n",
    "print(\"Elementwise Addition: \\n\", np.add(x, y))\n",
    "\n",
    "print(\"Elementwise Subtraction: \\n\", np.subtract(x, y))\n",
    "\n",
    "print(\"Elementwise Multiplication: \\n\", np.multiply(x, y))\n",
    "\n",
    "print(\"Elementwise Division: \\n\", np.divide(x, y))"
   ]
  },
  {
   "cell_type": "code",
   "execution_count": 4,
   "id": "ed9e0bed",
   "metadata": {},
   "outputs": [
    {
     "name": "stdout",
     "output_type": "stream",
     "text": [
      "Matrix Multiplication (Way-1): \n",
      " [[19 22]\n",
      " [43 50]]\n",
      "Matrix Multiplication (Way-2): \n",
      " [[19 22]\n",
      " [43 50]]\n",
      "Matrix Multiplication (Way-3): \n",
      " [[19 22]\n",
      " [43 50]]\n"
     ]
    }
   ],
   "source": [
    "# Matrix Multiplication\n",
    "import numpy as np\n",
    "\n",
    "x = np.array([[1,2], [3,4]])\n",
    "\n",
    "y = np.array([[5,6], [7,8]])\n",
    "\n",
    "print(\"Matrix Multiplication (Way-1): \\n\", np.matmul(x, y))\n",
    "\n",
    "print(\"Matrix Multiplication (Way-2): \\n\", np.dot(x, y))\n",
    "\n",
    "print(\"Matrix Multiplication (Way-3): \\n\", x @ y)"
   ]
  },
  {
   "cell_type": "code",
   "execution_count": 5,
   "id": "733b6f45",
   "metadata": {},
   "outputs": [
    {
     "name": "stdout",
     "output_type": "stream",
     "text": [
      "Original Array: \n",
      " [[1 2 3]\n",
      " [4 5 6]]\n",
      "Diagonal:  [1 5]\n"
     ]
    }
   ],
   "source": [
    "# Diagonal elements\n",
    "\n",
    "x = np.array([[1, 2, 3], [4, 5, 6]])\n",
    "\n",
    "print(\"Original Array: \\n\", x)\n",
    "\n",
    "print(\"Diagonal: \", np.diag(x))"
   ]
  },
  {
   "cell_type": "code",
   "execution_count": 6,
   "id": "f1ba30f1",
   "metadata": {},
   "outputs": [
    {
     "name": "stdout",
     "output_type": "stream",
     "text": [
      "Original Array: \n",
      " [[1 2 3]\n",
      " [4 5 6]]\n",
      "\n",
      "Transpose: \n",
      " [[1 4]\n",
      " [2 5]\n",
      " [3 6]]\n"
     ]
    }
   ],
   "source": [
    "# Transpose of an array\n",
    "\n",
    "x = np.array([[1, 2, 3], [4, 5, 6]])\n",
    "\n",
    "print(\"Original Array: \\n\", x)\n",
    "\n",
    "print()\n",
    "\n",
    "print(\"Transpose: \\n\", x.T)"
   ]
  },
  {
   "cell_type": "markdown",
   "id": "e51257c3",
   "metadata": {},
   "source": [
    "### Numpy statistics"
   ]
  },
  {
   "cell_type": "code",
   "execution_count": 8,
   "id": "87fcb561",
   "metadata": {},
   "outputs": [
    {
     "name": "stdout",
     "output_type": "stream",
     "text": [
      "Sum:  10\n",
      "Columnwise Sum:  [4 6]\n",
      "Rowwise Sum:  [3 7]\n"
     ]
    }
   ],
   "source": [
    "x = np.array([[1,2], [3,4]])\n",
    "\n",
    "print(\"Sum: \", np.sum(x))\n",
    "\n",
    "print(\"Columnwise Sum: \", np.sum(x, axis=0)) # Column Wise\n",
    "\n",
    "print(\"Rowwise Sum: \", np.sum(x, axis=1)) # Row wise"
   ]
  },
  {
   "cell_type": "code",
   "execution_count": 9,
   "id": "52625fb8",
   "metadata": {},
   "outputs": [
    {
     "name": "stdout",
     "output_type": "stream",
     "text": [
      "Array: \n",
      " [[1 2 3]\n",
      " [4 5 6]]\n",
      "Minimum:  1\n",
      "Columnwise Minimum:  [1 2 3]\n",
      "Rowwise Minimum:  [1 4]\n"
     ]
    }
   ],
   "source": [
    "x = np.array([[1, 2, 3], [4, 5, 6]])\n",
    "\n",
    "print(\"Array: \\n\", x)\n",
    "\n",
    "print(\"Minimum: \", np.min(x))\n",
    "\n",
    "print(\"Columnwise Minimum: \", np.min(x, axis=0)) # Column Wise\n",
    "\n",
    "print(\"Rowwise Minimum: \", np.min(x, axis=1)) # Row wise"
   ]
  },
  {
   "cell_type": "code",
   "execution_count": 10,
   "id": "5cc52781",
   "metadata": {},
   "outputs": [
    {
     "name": "stdout",
     "output_type": "stream",
     "text": [
      "Array: \n",
      " [160 180 146 162 184 180]\n",
      "Minimum:  146\n",
      "Maximum:  184\n",
      "Mean:  168.66666666666666\n",
      "Median:  171.0\n",
      "Variance:  187.55555555555557\n",
      "Std Dev:  13.695092389449425\n"
     ]
    }
   ],
   "source": [
    "x = np.array([160, 180, 146, 162, 184, 180])\n",
    "\n",
    "print(\"Array: \\n\", x)\n",
    "\n",
    "print(\"Minimum: \", np.min(x))\n",
    "\n",
    "print(\"Maximum: \", np.max(x))\n",
    "\n",
    "print(\"Mean: \", np.mean(x))\n",
    "\n",
    "print(\"Median: \", np.median(x))\n",
    "\n",
    "print(\"Variance: \", np.var(x))\n",
    "\n",
    "print(\"Std Dev: \", np.std(x))"
   ]
  },
  {
   "cell_type": "code",
   "execution_count": 11,
   "id": "80340aa5",
   "metadata": {},
   "outputs": [
    {
     "name": "stdout",
     "output_type": "stream",
     "text": [
      "Array: \n",
      " [[1 2 3]\n",
      " [4 5 6]]\n",
      "Minimum:  1\n",
      "Maximum:  6\n",
      "Mean:  3.5\n",
      "Median:  3.5\n",
      "Variance:  2.9166666666666665\n",
      "Std Dev:  1.707825127659933\n"
     ]
    }
   ],
   "source": [
    "x = np.array([[1, 2, 3], [4, 5, 6]])\n",
    "\n",
    "print(\"Array: \\n\", x)\n",
    "\n",
    "print(\"Minimum: \", np.min(x))\n",
    "\n",
    "print(\"Maximum: \", np.max(x))\n",
    "\n",
    "print(\"Mean: \", np.mean(x))\n",
    "\n",
    "print(\"Median: \", np.median(x))\n",
    "\n",
    "print(\"Variance: \", np.var(x))\n",
    "\n",
    "print(\"Std Dev: \", np.std(x))\n"
   ]
  },
  {
   "cell_type": "code",
   "execution_count": 12,
   "id": "e1d7cde9",
   "metadata": {},
   "outputs": [
    {
     "data": {
      "text/plain": [
       "array([[1.        , 0.88546942],\n",
       "       [0.88546942, 1.        ]])"
      ]
     },
     "execution_count": 12,
     "metadata": {},
     "output_type": "execute_result"
    }
   ],
   "source": [
    "heights = np.array([160, 180, 146, 162, 184, 180])\n",
    "\n",
    "weights = np.array([50, 78, 45, 51, 80, 60])\n",
    "\n",
    "np.corrcoef(heights, weights)"
   ]
  },
  {
   "cell_type": "markdown",
   "id": "168d5016",
   "metadata": {},
   "source": [
    "### Linspace"
   ]
  },
  {
   "cell_type": "code",
   "execution_count": 13,
   "id": "05be7ea2",
   "metadata": {},
   "outputs": [
    {
     "name": "stdout",
     "output_type": "stream",
     "text": [
      "[1.         1.44444444 1.88888889 2.33333333 2.77777778 3.22222222\n",
      " 3.66666667 4.11111111 4.55555556 5.        ]\n"
     ]
    }
   ],
   "source": [
    "print(np.linspace(1,5,10))"
   ]
  },
  {
   "cell_type": "code",
   "execution_count": 14,
   "id": "29cc4b1d",
   "metadata": {},
   "outputs": [
    {
     "name": "stdout",
     "output_type": "stream",
     "text": [
      "[10.  10.6 11.2 11.8 12.4 13. ]\n"
     ]
    }
   ],
   "source": [
    "print(np.linspace(10, 13, 6))"
   ]
  },
  {
   "cell_type": "markdown",
   "id": "2f4de295",
   "metadata": {},
   "source": [
    "### Sorting"
   ]
  },
  {
   "cell_type": "code",
   "execution_count": 15,
   "id": "f6006598",
   "metadata": {},
   "outputs": [
    {
     "name": "stdout",
     "output_type": "stream",
     "text": [
      "[[ 9 15  6  9]\n",
      " [13 19  8 14]\n",
      " [ 1  8 19 10]\n",
      " [ 2 11  6 10]\n",
      " [ 1 11  1 12]]\n"
     ]
    },
    {
     "data": {
      "text/plain": [
       "array([[ 6,  9,  9, 15],\n",
       "       [ 8, 13, 14, 19],\n",
       "       [ 1,  8, 10, 19],\n",
       "       [ 2,  6, 10, 11],\n",
       "       [ 1,  1, 11, 12]])"
      ]
     },
     "execution_count": 15,
     "metadata": {},
     "output_type": "execute_result"
    }
   ],
   "source": [
    "a=np.random.randint(1,20,size=(5,4))\n",
    "print(a)\n",
    "np.sort(a)"
   ]
  },
  {
   "cell_type": "code",
   "execution_count": 17,
   "id": "dccc19fd",
   "metadata": {},
   "outputs": [
    {
     "data": {
      "text/plain": [
       "array([[ 1,  8,  1,  9],\n",
       "       [ 1, 11,  6, 10],\n",
       "       [ 2, 11,  6, 10],\n",
       "       [ 9, 15,  8, 12],\n",
       "       [13, 19, 19, 14]])"
      ]
     },
     "execution_count": 17,
     "metadata": {},
     "output_type": "execute_result"
    }
   ],
   "source": [
    "np.sort(a,axis=0)    #column wise sorting"
   ]
  },
  {
   "cell_type": "code",
   "execution_count": 19,
   "id": "47abb66e",
   "metadata": {},
   "outputs": [
    {
     "data": {
      "text/plain": [
       "array([[ 6,  9,  9, 15],\n",
       "       [ 8, 13, 14, 19],\n",
       "       [ 1,  8, 10, 19],\n",
       "       [ 2,  6, 10, 11],\n",
       "       [ 1,  1, 11, 12]])"
      ]
     },
     "execution_count": 19,
     "metadata": {},
     "output_type": "execute_result"
    }
   ],
   "source": [
    "np.sort(a,axis=1)     #row wise sorting"
   ]
  },
  {
   "cell_type": "markdown",
   "id": "4a6b5ba7",
   "metadata": {},
   "source": [
    "### Stacking"
   ]
  },
  {
   "cell_type": "code",
   "execution_count": 21,
   "id": "3550c77b",
   "metadata": {},
   "outputs": [
    {
     "name": "stdout",
     "output_type": "stream",
     "text": [
      "[[7 5 6]\n",
      " [2 6 7]]\n"
     ]
    }
   ],
   "source": [
    "a=np.random.randint(1,10,size=(2,3))\n",
    "b=np.random.randint(1,10,size=(2,3))\n",
    "print(a)"
   ]
  },
  {
   "cell_type": "code",
   "execution_count": 22,
   "id": "768a03b6",
   "metadata": {},
   "outputs": [
    {
     "name": "stdout",
     "output_type": "stream",
     "text": [
      "[[3 9 9]\n",
      " [1 8 8]]\n"
     ]
    }
   ],
   "source": [
    "print(b)"
   ]
  },
  {
   "cell_type": "code",
   "execution_count": 24,
   "id": "cead3fac",
   "metadata": {},
   "outputs": [
    {
     "name": "stdout",
     "output_type": "stream",
     "text": [
      "[[[7 5 6]\n",
      "  [2 6 7]]\n",
      "\n",
      " [[3 9 9]\n",
      "  [1 8 8]]]\n"
     ]
    }
   ],
   "source": [
    "print(np.stack([a,b]))"
   ]
  },
  {
   "cell_type": "code",
   "execution_count": 25,
   "id": "0236c5e8",
   "metadata": {},
   "outputs": [
    {
     "name": "stdout",
     "output_type": "stream",
     "text": [
      "[[7 5 6]\n",
      " [2 6 7]\n",
      " [3 9 9]\n",
      " [1 8 8]]\n"
     ]
    }
   ],
   "source": [
    "print(np.vstack([a,b]))"
   ]
  },
  {
   "cell_type": "code",
   "execution_count": 26,
   "id": "6034e603",
   "metadata": {},
   "outputs": [
    {
     "name": "stdout",
     "output_type": "stream",
     "text": [
      "[[7 5 6 3 9 9]\n",
      " [2 6 7 1 8 8]]\n"
     ]
    }
   ],
   "source": [
    "print(np.hstack([a,b]))"
   ]
  },
  {
   "cell_type": "code",
   "execution_count": 31,
   "id": "a90c7d74",
   "metadata": {},
   "outputs": [
    {
     "name": "stdout",
     "output_type": "stream",
     "text": [
      "[[1 4 4 5]\n",
      " [8 5 9 4]\n",
      " [7 3 9 5]\n",
      " [4 2 3 6]]\n"
     ]
    }
   ],
   "source": [
    "c=np.random.randint(1,10,size=(4,4))\n",
    "print(c)"
   ]
  },
  {
   "cell_type": "code",
   "execution_count": 33,
   "id": "f85b27ec",
   "metadata": {},
   "outputs": [
    {
     "ename": "ValueError",
     "evalue": "all the input array dimensions for the concatenation axis must match exactly, but along dimension 1, the array at index 0 has size 3 and the array at index 1 has size 4",
     "output_type": "error",
     "traceback": [
      "\u001b[1;31m---------------------------------------------------------------------------\u001b[0m",
      "\u001b[1;31mValueError\u001b[0m                                Traceback (most recent call last)",
      "Cell \u001b[1;32mIn[33], line 1\u001b[0m\n\u001b[1;32m----> 1\u001b[0m \u001b[38;5;28mprint\u001b[39m(\u001b[43mnp\u001b[49m\u001b[38;5;241;43m.\u001b[39;49m\u001b[43mvstack\u001b[49m\u001b[43m(\u001b[49m\u001b[43m[\u001b[49m\u001b[43ma\u001b[49m\u001b[43m,\u001b[49m\u001b[43mc\u001b[49m\u001b[43m]\u001b[49m\u001b[43m)\u001b[49m)\n",
      "File \u001b[1;32m<__array_function__ internals>:180\u001b[0m, in \u001b[0;36mvstack\u001b[1;34m(*args, **kwargs)\u001b[0m\n",
      "File \u001b[1;32m~\\Documents\\anaconda\\lib\\site-packages\\numpy\\core\\shape_base.py:282\u001b[0m, in \u001b[0;36mvstack\u001b[1;34m(tup)\u001b[0m\n\u001b[0;32m    280\u001b[0m \u001b[38;5;28;01mif\u001b[39;00m \u001b[38;5;129;01mnot\u001b[39;00m \u001b[38;5;28misinstance\u001b[39m(arrs, \u001b[38;5;28mlist\u001b[39m):\n\u001b[0;32m    281\u001b[0m     arrs \u001b[38;5;241m=\u001b[39m [arrs]\n\u001b[1;32m--> 282\u001b[0m \u001b[38;5;28;01mreturn\u001b[39;00m \u001b[43m_nx\u001b[49m\u001b[38;5;241;43m.\u001b[39;49m\u001b[43mconcatenate\u001b[49m\u001b[43m(\u001b[49m\u001b[43marrs\u001b[49m\u001b[43m,\u001b[49m\u001b[43m \u001b[49m\u001b[38;5;241;43m0\u001b[39;49m\u001b[43m)\u001b[49m\n",
      "File \u001b[1;32m<__array_function__ internals>:180\u001b[0m, in \u001b[0;36mconcatenate\u001b[1;34m(*args, **kwargs)\u001b[0m\n",
      "\u001b[1;31mValueError\u001b[0m: all the input array dimensions for the concatenation axis must match exactly, but along dimension 1, the array at index 0 has size 3 and the array at index 1 has size 4"
     ]
    }
   ],
   "source": [
    "print(np.vstack([a,c]))    #columns are not equal"
   ]
  },
  {
   "cell_type": "code",
   "execution_count": 35,
   "id": "0b28d9d1",
   "metadata": {},
   "outputs": [
    {
     "ename": "ValueError",
     "evalue": "all the input array dimensions for the concatenation axis must match exactly, but along dimension 0, the array at index 0 has size 2 and the array at index 1 has size 4",
     "output_type": "error",
     "traceback": [
      "\u001b[1;31m---------------------------------------------------------------------------\u001b[0m",
      "\u001b[1;31mValueError\u001b[0m                                Traceback (most recent call last)",
      "Cell \u001b[1;32mIn[35], line 1\u001b[0m\n\u001b[1;32m----> 1\u001b[0m \u001b[38;5;28mprint\u001b[39m(\u001b[43mnp\u001b[49m\u001b[38;5;241;43m.\u001b[39;49m\u001b[43mhstack\u001b[49m\u001b[43m(\u001b[49m\u001b[43m[\u001b[49m\u001b[43ma\u001b[49m\u001b[43m,\u001b[49m\u001b[43mc\u001b[49m\u001b[43m]\u001b[49m\u001b[43m)\u001b[49m)\n",
      "File \u001b[1;32m<__array_function__ internals>:180\u001b[0m, in \u001b[0;36mhstack\u001b[1;34m(*args, **kwargs)\u001b[0m\n",
      "File \u001b[1;32m~\\Documents\\anaconda\\lib\\site-packages\\numpy\\core\\shape_base.py:345\u001b[0m, in \u001b[0;36mhstack\u001b[1;34m(tup)\u001b[0m\n\u001b[0;32m    343\u001b[0m     \u001b[38;5;28;01mreturn\u001b[39;00m _nx\u001b[38;5;241m.\u001b[39mconcatenate(arrs, \u001b[38;5;241m0\u001b[39m)\n\u001b[0;32m    344\u001b[0m \u001b[38;5;28;01melse\u001b[39;00m:\n\u001b[1;32m--> 345\u001b[0m     \u001b[38;5;28;01mreturn\u001b[39;00m \u001b[43m_nx\u001b[49m\u001b[38;5;241;43m.\u001b[39;49m\u001b[43mconcatenate\u001b[49m\u001b[43m(\u001b[49m\u001b[43marrs\u001b[49m\u001b[43m,\u001b[49m\u001b[43m \u001b[49m\u001b[38;5;241;43m1\u001b[39;49m\u001b[43m)\u001b[49m\n",
      "File \u001b[1;32m<__array_function__ internals>:180\u001b[0m, in \u001b[0;36mconcatenate\u001b[1;34m(*args, **kwargs)\u001b[0m\n",
      "\u001b[1;31mValueError\u001b[0m: all the input array dimensions for the concatenation axis must match exactly, but along dimension 0, the array at index 0 has size 2 and the array at index 1 has size 4"
     ]
    }
   ],
   "source": [
    "print(np.hstack([a,c]))  #rows are not equal"
   ]
  },
  {
   "cell_type": "markdown",
   "id": "7d0edea1",
   "metadata": {},
   "source": [
    "###  concatenate"
   ]
  },
  {
   "cell_type": "code",
   "execution_count": 36,
   "id": "2c8eb101",
   "metadata": {},
   "outputs": [
    {
     "data": {
      "text/plain": [
       "array([[7, 5, 6],\n",
       "       [2, 6, 7],\n",
       "       [3, 9, 9],\n",
       "       [1, 8, 8]])"
      ]
     },
     "execution_count": 36,
     "metadata": {},
     "output_type": "execute_result"
    }
   ],
   "source": [
    "np.concatenate([a,b]) #axis=0"
   ]
  },
  {
   "cell_type": "code",
   "execution_count": 37,
   "id": "d4ca333c",
   "metadata": {},
   "outputs": [
    {
     "data": {
      "text/plain": [
       "array([[7, 5, 6],\n",
       "       [2, 6, 7],\n",
       "       [3, 9, 9],\n",
       "       [1, 8, 8]])"
      ]
     },
     "execution_count": 37,
     "metadata": {},
     "output_type": "execute_result"
    }
   ],
   "source": [
    "np.concatenate([a,b],axis=0)"
   ]
  },
  {
   "cell_type": "code",
   "execution_count": 38,
   "id": "29810dd6",
   "metadata": {},
   "outputs": [
    {
     "data": {
      "text/plain": [
       "array([[7, 5, 6, 3, 9, 9],\n",
       "       [2, 6, 7, 1, 8, 8]])"
      ]
     },
     "execution_count": 38,
     "metadata": {},
     "output_type": "execute_result"
    }
   ],
   "source": [
    "np.concatenate([a,b],axis=1)"
   ]
  },
  {
   "cell_type": "markdown",
   "id": "df044d8c",
   "metadata": {},
   "source": [
    "### Append"
   ]
  },
  {
   "cell_type": "code",
   "execution_count": 42,
   "id": "280b0a5b",
   "metadata": {},
   "outputs": [
    {
     "data": {
      "text/plain": [
       "array([[7, 5, 6],\n",
       "       [2, 6, 7],\n",
       "       [3, 9, 9],\n",
       "       [1, 8, 8]])"
      ]
     },
     "execution_count": 42,
     "metadata": {},
     "output_type": "execute_result"
    }
   ],
   "source": [
    "np.append(a,b,axis=0)"
   ]
  },
  {
   "cell_type": "code",
   "execution_count": 43,
   "id": "e5058591",
   "metadata": {},
   "outputs": [
    {
     "data": {
      "text/plain": [
       "array([[7, 5, 6, 3, 9, 9],\n",
       "       [2, 6, 7, 1, 8, 8]])"
      ]
     },
     "execution_count": 43,
     "metadata": {},
     "output_type": "execute_result"
    }
   ],
   "source": [
    "np.append(a,b,axis=1)"
   ]
  },
  {
   "cell_type": "markdown",
   "id": "56f61e0a",
   "metadata": {},
   "source": [
    "### Where"
   ]
  },
  {
   "cell_type": "code",
   "execution_count": 44,
   "id": "5842333b",
   "metadata": {},
   "outputs": [
    {
     "name": "stdout",
     "output_type": "stream",
     "text": [
      "[[50 51 52 53 54 55 56 57 58 59]\n",
      " [60 61 62 63 64 65 66 67 68 69]\n",
      " [70 71 72 73 74 75 76 77 78 79]\n",
      " [80 81 82 83 84 85 86 87 88 89]\n",
      " [90 91 92 93 94 95 96 97 98 99]]\n"
     ]
    }
   ],
   "source": [
    "arr = np.arange(50, 100).reshape(5, 10)\n",
    "\n",
    "print(arr)"
   ]
  },
  {
   "cell_type": "code",
   "execution_count": 45,
   "id": "40e8b768",
   "metadata": {},
   "outputs": [
    {
     "data": {
      "text/plain": [
       "array([[1, 1, 1, 1, 1, 1, 1, 1, 1, 1],\n",
       "       [1, 1, 1, 1, 1, 0, 0, 0, 0, 0],\n",
       "       [0, 0, 0, 0, 0, 0, 0, 0, 0, 0],\n",
       "       [0, 0, 0, 0, 0, 0, 0, 0, 0, 0],\n",
       "       [0, 0, 0, 0, 0, 0, 0, 0, 0, 0]])"
      ]
     },
     "execution_count": 45,
     "metadata": {},
     "output_type": "execute_result"
    }
   ],
   "source": [
    "np.where(arr > 64, 0, 1)"
   ]
  },
  {
   "cell_type": "code",
   "execution_count": 46,
   "id": "a8942e6c",
   "metadata": {},
   "outputs": [
    {
     "data": {
      "text/plain": [
       "array([[50. , 51. , 52. , 53. , 54. , 55. , 56. , 57. , 58. , 59. ],\n",
       "       [60. , 61. , 62. , 63. , 64. ,  6.5,  6.6,  6.7,  6.8,  6.9],\n",
       "       [ 7. ,  7.1,  7.2,  7.3,  7.4,  7.5,  7.6,  7.7,  7.8,  7.9],\n",
       "       [ 8. ,  8.1,  8.2,  8.3,  8.4,  8.5,  8.6,  8.7,  8.8,  8.9],\n",
       "       [ 9. ,  9.1,  9.2,  9.3,  9.4,  9.5,  9.6,  9.7,  9.8,  9.9]])"
      ]
     },
     "execution_count": 46,
     "metadata": {},
     "output_type": "execute_result"
    }
   ],
   "source": [
    "np.where(arr > 64, arr/10, arr)"
   ]
  },
  {
   "cell_type": "code",
   "execution_count": 47,
   "id": "d11f9e43",
   "metadata": {},
   "outputs": [
    {
     "name": "stdout",
     "output_type": "stream",
     "text": [
      "Indexes:  [1 3 2 0]\n",
      "Sorted Array:  [-5 -1  6 10]\n"
     ]
    }
   ],
   "source": [
    "#argsort\n",
    "import numpy as np\n",
    "\n",
    "arr = np.array([10, -5, 6, -1])\n",
    "\n",
    "print(\"Indexes: \", arr.argsort()) # Returns indexes\n",
    "\n",
    "print(\"Sorted Array: \", arr[arr.argsort()])"
   ]
  },
  {
   "cell_type": "code",
   "execution_count": 48,
   "id": "cdab277f",
   "metadata": {},
   "outputs": [
    {
     "name": "stdout",
     "output_type": "stream",
     "text": [
      "[1 2 0 3]\n"
     ]
    }
   ],
   "source": [
    "a=np.array([3,1,2,4])\n",
    "print(a.argsort())"
   ]
  },
  {
   "cell_type": "code",
   "execution_count": 49,
   "id": "2146df09",
   "metadata": {},
   "outputs": [
    {
     "name": "stdout",
     "output_type": "stream",
     "text": [
      "[[2 4 6]\n",
      " [5 7 9]]\n"
     ]
    }
   ],
   "source": [
    "arr_1 = np.array([[1, 2, 3], [4, 5, 6]])\n",
    "\n",
    "arr_2 = np.array([1, 2, 3])\n",
    "\n",
    "print(arr_1 + arr_2)"
   ]
  },
  {
   "cell_type": "code",
   "execution_count": null,
   "id": "fb497c9a",
   "metadata": {},
   "outputs": [],
   "source": []
  }
 ],
 "metadata": {
  "kernelspec": {
   "display_name": "Python 3 (ipykernel)",
   "language": "python",
   "name": "python3"
  },
  "language_info": {
   "codemirror_mode": {
    "name": "ipython",
    "version": 3
   },
   "file_extension": ".py",
   "mimetype": "text/x-python",
   "name": "python",
   "nbconvert_exporter": "python",
   "pygments_lexer": "ipython3",
   "version": "3.10.9"
  }
 },
 "nbformat": 4,
 "nbformat_minor": 5
}
